{
 "cells": [
  {
   "cell_type": "code",
   "execution_count": 1,
   "id": "a1da5d33-4a9e-43ab-8e7a-0234127685e9",
   "metadata": {},
   "outputs": [],
   "source": [
    "import pandas as pd"
   ]
  },
  {
   "cell_type": "code",
   "execution_count": 2,
   "id": "837a289a-6c3c-49f7-ad4b-2065d10d25f7",
   "metadata": {},
   "outputs": [],
   "source": [
    "df = pd.read_csv('euro-daily-hist_1999_2022.csv')"
   ]
  },
  {
   "cell_type": "code",
   "execution_count": 3,
   "id": "35b932bd-05f3-4317-bfd6-8dc2fa2592f4",
   "metadata": {},
   "outputs": [
    {
     "name": "stdout",
     "output_type": "stream",
     "text": [
      "<class 'pandas.core.frame.DataFrame'>\n",
      "RangeIndex: 4113 entries, 0 to 4112\n",
      "Data columns (total 41 columns):\n",
      " #   Column                    Non-Null Count  Dtype  \n",
      "---  ------                    --------------  -----  \n",
      " 0   Period\\Unit:              4113 non-null   object \n",
      " 1   [Australian dollar ]      4113 non-null   object \n",
      " 2   [Bulgarian lev ]          4113 non-null   object \n",
      " 3   [Brazilian real ]         4113 non-null   object \n",
      " 4   [Canadian dollar ]        4113 non-null   object \n",
      " 5   [Swiss franc ]            4113 non-null   object \n",
      " 6   [Chinese yuan renminbi ]  4113 non-null   object \n",
      " 7   [Cypriot pound ]          0 non-null      float64\n",
      " 8   [Czech koruna ]           4113 non-null   object \n",
      " 9   [Danish krone ]           4113 non-null   object \n",
      " 10  [Estonian kroon ]         708 non-null    object \n",
      " 11  [UK pound sterling ]      4113 non-null   object \n",
      " 12  [Greek drachma ]          0 non-null      float64\n",
      " 13  [Hong Kong dollar ]       4113 non-null   object \n",
      " 14  [Croatian kuna ]          3787 non-null   object \n",
      " 15  [Hungarian forint ]       4113 non-null   object \n",
      " 16  [Indonesian rupiah ]      4113 non-null   object \n",
      " 17  [Israeli shekel ]         4113 non-null   object \n",
      " 18  [Indian rupee ]           4113 non-null   object \n",
      " 19  [Iceland krona ]          1751 non-null   float64\n",
      " 20  [Japanese yen ]           4113 non-null   object \n",
      " 21  [Korean won ]             4113 non-null   object \n",
      " 22  [Lithuanian litas ]       1737 non-null   object \n",
      " 23  [Latvian lats ]           1482 non-null   object \n",
      " 24  [Maltese lira ]           0 non-null      float64\n",
      " 25  [Mexican peso ]           4113 non-null   object \n",
      " 26  [Malaysian ringgit ]      4113 non-null   object \n",
      " 27  [Norwegian krone ]        4113 non-null   object \n",
      " 28  [New Zealand dollar ]     4113 non-null   object \n",
      " 29  [Philippine peso ]        4113 non-null   object \n",
      " 30  [Polish zloty ]           4113 non-null   object \n",
      " 31  [Romanian leu ]           4096 non-null   float64\n",
      " 32  [Russian rouble ]         3572 non-null   object \n",
      " 33  [Swedish krona ]          4113 non-null   object \n",
      " 34  [Singapore dollar ]       4113 non-null   object \n",
      " 35  [Slovenian tolar ]        0 non-null      float64\n",
      " 36  [Slovak koruna ]          186 non-null    object \n",
      " 37  [Thai baht ]              4112 non-null   object \n",
      " 38  [Turkish lira ]           4095 non-null   float64\n",
      " 39  [US dollar ]              4112 non-null   object \n",
      " 40  [South African rand ]     4112 non-null   object \n",
      "dtypes: float64(7), object(34)\n",
      "memory usage: 1.3+ MB\n"
     ]
    }
   ],
   "source": [
    "df.info()"
   ]
  },
  {
   "cell_type": "code",
   "execution_count": 4,
   "id": "b8cf1009-8778-43ec-a34e-08d271260c87",
   "metadata": {},
   "outputs": [],
   "source": [
    "s=pd.Series([r'Period\\Unit:'])"
   ]
  },
  {
   "cell_type": "code",
   "execution_count": 5,
   "id": "79e3e170-6fa7-499e-b8d2-03212d6483e9",
   "metadata": {},
   "outputs": [
    {
     "data": {
      "text/plain": [
       "dtype('O')"
      ]
     },
     "execution_count": 5,
     "metadata": {},
     "output_type": "execute_result"
    }
   ],
   "source": [
    "s.dtypes"
   ]
  },
  {
   "cell_type": "code",
   "execution_count": 6,
   "id": "11801b00-4c36-4173-8a2b-c18461184900",
   "metadata": {},
   "outputs": [
    {
     "data": {
      "text/plain": [
       "RangeIndex(start=0, stop=4113, step=1)"
      ]
     },
     "execution_count": 6,
     "metadata": {},
     "output_type": "execute_result"
    }
   ],
   "source": [
    "df.index"
   ]
  },
  {
   "cell_type": "code",
   "execution_count": 7,
   "id": "e6ce6efc-32b3-453a-9bb0-29a1383128e6",
   "metadata": {},
   "outputs": [
    {
     "data": {
      "text/plain": [
       "Period\\Unit:                 object\n",
       "[Australian dollar ]         object\n",
       "[Bulgarian lev ]             object\n",
       "[Brazilian real ]            object\n",
       "[Canadian dollar ]           object\n",
       "[Swiss franc ]               object\n",
       "[Chinese yuan renminbi ]     object\n",
       "[Cypriot pound ]            float64\n",
       "[Czech koruna ]              object\n",
       "[Danish krone ]              object\n",
       "[Estonian kroon ]            object\n",
       "[UK pound sterling ]         object\n",
       "[Greek drachma ]            float64\n",
       "[Hong Kong dollar ]          object\n",
       "[Croatian kuna ]             object\n",
       "[Hungarian forint ]          object\n",
       "[Indonesian rupiah ]         object\n",
       "[Israeli shekel ]            object\n",
       "[Indian rupee ]              object\n",
       "[Iceland krona ]            float64\n",
       "[Japanese yen ]              object\n",
       "[Korean won ]                object\n",
       "[Lithuanian litas ]          object\n",
       "[Latvian lats ]              object\n",
       "[Maltese lira ]             float64\n",
       "[Mexican peso ]              object\n",
       "[Malaysian ringgit ]         object\n",
       "[Norwegian krone ]           object\n",
       "[New Zealand dollar ]        object\n",
       "[Philippine peso ]           object\n",
       "[Polish zloty ]              object\n",
       "[Romanian leu ]             float64\n",
       "[Russian rouble ]            object\n",
       "[Swedish krona ]             object\n",
       "[Singapore dollar ]          object\n",
       "[Slovenian tolar ]          float64\n",
       "[Slovak koruna ]             object\n",
       "[Thai baht ]                 object\n",
       "[Turkish lira ]             float64\n",
       "[US dollar ]                 object\n",
       "[South African rand ]        object\n",
       "dtype: object"
      ]
     },
     "execution_count": 7,
     "metadata": {},
     "output_type": "execute_result"
    }
   ],
   "source": [
    "df.dtypes"
   ]
  },
  {
   "cell_type": "code",
   "execution_count": 8,
   "id": "77124f03-0447-4fa2-a6ea-9f10ab74ff0c",
   "metadata": {},
   "outputs": [
    {
     "name": "stdout",
     "output_type": "stream",
     "text": [
      "Period\\Unit:                   0\n",
      "[Australian dollar ]           0\n",
      "[Bulgarian lev ]               0\n",
      "[Brazilian real ]              0\n",
      "[Canadian dollar ]             0\n",
      "[Swiss franc ]                 0\n",
      "[Chinese yuan renminbi ]       0\n",
      "[Cypriot pound ]            4113\n",
      "[Czech koruna ]                0\n",
      "[Danish krone ]                0\n",
      "[Estonian kroon ]           3405\n",
      "[UK pound sterling ]           0\n",
      "[Greek drachma ]            4113\n",
      "[Hong Kong dollar ]            0\n",
      "[Croatian kuna ]             326\n",
      "[Hungarian forint ]            0\n",
      "[Indonesian rupiah ]           0\n",
      "[Israeli shekel ]              0\n",
      "[Indian rupee ]                0\n",
      "[Iceland krona ]            2362\n",
      "[Japanese yen ]                0\n",
      "[Korean won ]                  0\n",
      "[Lithuanian litas ]         2376\n",
      "[Latvian lats ]             2631\n",
      "[Maltese lira ]             4113\n",
      "[Mexican peso ]                0\n",
      "[Malaysian ringgit ]           0\n",
      "[Norwegian krone ]             0\n",
      "[New Zealand dollar ]          0\n",
      "[Philippine peso ]             0\n",
      "[Polish zloty ]                0\n",
      "[Romanian leu ]               17\n",
      "[Russian rouble ]            541\n",
      "[Swedish krona ]               0\n",
      "[Singapore dollar ]            0\n",
      "[Slovenian tolar ]          4113\n",
      "[Slovak koruna ]            3927\n",
      "[Thai baht ]                   1\n",
      "[Turkish lira ]               18\n",
      "[US dollar ]                   1\n",
      "[South African rand ]          1\n",
      "dtype: int64\n"
     ]
    }
   ],
   "source": [
    "#identification des valeur manquantes\n",
    "print(df.isnull().sum())"
   ]
  },
  {
   "cell_type": "code",
   "execution_count": 9,
   "id": "be2d6aae-63de-4284-aad5-533cd43478a3",
   "metadata": {},
   "outputs": [],
   "source": [
    "#on renome la colonne date\n",
    "df=df.rename(columns={r\"Period\\Unit:\":\"ds\"})"
   ]
  },
  {
   "cell_type": "code",
   "execution_count": 10,
   "id": "f60fd44e-4339-4581-91cb-544b81a455e0",
   "metadata": {},
   "outputs": [
    {
     "data": {
      "text/html": [
       "<div>\n",
       "<style scoped>\n",
       "    .dataframe tbody tr th:only-of-type {\n",
       "        vertical-align: middle;\n",
       "    }\n",
       "\n",
       "    .dataframe tbody tr th {\n",
       "        vertical-align: top;\n",
       "    }\n",
       "\n",
       "    .dataframe thead th {\n",
       "        text-align: right;\n",
       "    }\n",
       "</style>\n",
       "<table border=\"1\" class=\"dataframe\">\n",
       "  <thead>\n",
       "    <tr style=\"text-align: right;\">\n",
       "      <th></th>\n",
       "      <th>ds</th>\n",
       "    </tr>\n",
       "  </thead>\n",
       "  <tbody>\n",
       "    <tr>\n",
       "      <th>0</th>\n",
       "      <td>2024-04-11</td>\n",
       "    </tr>\n",
       "    <tr>\n",
       "      <th>1</th>\n",
       "      <td>2024-04-10</td>\n",
       "    </tr>\n",
       "    <tr>\n",
       "      <th>2</th>\n",
       "      <td>2024-04-09</td>\n",
       "    </tr>\n",
       "    <tr>\n",
       "      <th>3</th>\n",
       "      <td>2024-04-08</td>\n",
       "    </tr>\n",
       "    <tr>\n",
       "      <th>4</th>\n",
       "      <td>2024-04-05</td>\n",
       "    </tr>\n",
       "    <tr>\n",
       "      <th>...</th>\n",
       "      <td>...</td>\n",
       "    </tr>\n",
       "    <tr>\n",
       "      <th>4108</th>\n",
       "      <td>2008-04-22</td>\n",
       "    </tr>\n",
       "    <tr>\n",
       "      <th>4109</th>\n",
       "      <td>2008-04-21</td>\n",
       "    </tr>\n",
       "    <tr>\n",
       "      <th>4110</th>\n",
       "      <td>2008-04-18</td>\n",
       "    </tr>\n",
       "    <tr>\n",
       "      <th>4111</th>\n",
       "      <td>2008-04-17</td>\n",
       "    </tr>\n",
       "    <tr>\n",
       "      <th>4112</th>\n",
       "      <td>2008-04-16</td>\n",
       "    </tr>\n",
       "  </tbody>\n",
       "</table>\n",
       "<p>4113 rows × 1 columns</p>\n",
       "</div>"
      ],
      "text/plain": [
       "              ds\n",
       "0     2024-04-11\n",
       "1     2024-04-10\n",
       "2     2024-04-09\n",
       "3     2024-04-08\n",
       "4     2024-04-05\n",
       "...          ...\n",
       "4108  2008-04-22\n",
       "4109  2008-04-21\n",
       "4110  2008-04-18\n",
       "4111  2008-04-17\n",
       "4112  2008-04-16\n",
       "\n",
       "[4113 rows x 1 columns]"
      ]
     },
     "execution_count": 10,
     "metadata": {},
     "output_type": "execute_result"
    }
   ],
   "source": [
    "df[['ds']]"
   ]
  },
  {
   "cell_type": "code",
   "execution_count": 11,
   "id": "9ce03980-027d-41fc-8a0a-d6c6080cd5e2",
   "metadata": {},
   "outputs": [],
   "source": [
    "df['ds']= pd.to_datetime(df[\"ds\"])"
   ]
  },
  {
   "cell_type": "code",
   "execution_count": 12,
   "id": "db2154eb-bae7-41f5-af7c-c72101c55c63",
   "metadata": {},
   "outputs": [
    {
     "data": {
      "text/plain": [
       "ds    datetime64[ns]\n",
       "dtype: object"
      ]
     },
     "execution_count": 12,
     "metadata": {},
     "output_type": "execute_result"
    }
   ],
   "source": [
    "df[['ds']].dtypes"
   ]
  },
  {
   "cell_type": "code",
   "execution_count": 13,
   "id": "0c5960f1-8cf1-451d-a161-f14b2ba93e86",
   "metadata": {},
   "outputs": [],
   "source": [
    "les_colomns=df.select_dtypes(include=['object']).columns"
   ]
  },
  {
   "cell_type": "code",
   "execution_count": 14,
   "id": "d2d8ec42-6ee3-4406-bf52-99561c71be72",
   "metadata": {},
   "outputs": [],
   "source": [
    "#convertir les columns de types objects en valeur numeriques\n",
    "for col in les_colomns:\n",
    "    df[col]=pd.to_numeric(df[col],errors='coerce')\n",
    "    #errors='coerce' c'est pour converir les valeurs non convertible en NaN"
   ]
  },
  {
   "cell_type": "code",
   "execution_count": 15,
   "id": "ba64f1a6-b904-41fc-81c4-038acb4f2edf",
   "metadata": {},
   "outputs": [
    {
     "data": {
      "text/plain": [
       "ds                          datetime64[ns]\n",
       "[Australian dollar ]               float64\n",
       "[Bulgarian lev ]                   float64\n",
       "[Brazilian real ]                  float64\n",
       "[Canadian dollar ]                 float64\n",
       "[Swiss franc ]                     float64\n",
       "[Chinese yuan renminbi ]           float64\n",
       "[Cypriot pound ]                   float64\n",
       "[Czech koruna ]                    float64\n",
       "[Danish krone ]                    float64\n",
       "[Estonian kroon ]                  float64\n",
       "[UK pound sterling ]               float64\n",
       "[Greek drachma ]                   float64\n",
       "[Hong Kong dollar ]                float64\n",
       "[Croatian kuna ]                   float64\n",
       "[Hungarian forint ]                float64\n",
       "[Indonesian rupiah ]               float64\n",
       "[Israeli shekel ]                  float64\n",
       "[Indian rupee ]                    float64\n",
       "[Iceland krona ]                   float64\n",
       "[Japanese yen ]                    float64\n",
       "[Korean won ]                      float64\n",
       "[Lithuanian litas ]                float64\n",
       "[Latvian lats ]                    float64\n",
       "[Maltese lira ]                    float64\n",
       "[Mexican peso ]                    float64\n",
       "[Malaysian ringgit ]               float64\n",
       "[Norwegian krone ]                 float64\n",
       "[New Zealand dollar ]              float64\n",
       "[Philippine peso ]                 float64\n",
       "[Polish zloty ]                    float64\n",
       "[Romanian leu ]                    float64\n",
       "[Russian rouble ]                  float64\n",
       "[Swedish krona ]                   float64\n",
       "[Singapore dollar ]                float64\n",
       "[Slovenian tolar ]                 float64\n",
       "[Slovak koruna ]                   float64\n",
       "[Thai baht ]                       float64\n",
       "[Turkish lira ]                    float64\n",
       "[US dollar ]                       float64\n",
       "[South African rand ]              float64\n",
       "dtype: object"
      ]
     },
     "execution_count": 15,
     "metadata": {},
     "output_type": "execute_result"
    }
   ],
   "source": [
    "df.dtypes"
   ]
  },
  {
   "cell_type": "code",
   "execution_count": 16,
   "id": "b633e916-9191-433d-affa-8c3de50d73b0",
   "metadata": {},
   "outputs": [],
   "source": [
    "#on remplie les NaN avec la valeur moyenne\n",
    "df=df.fillna(df.mean())"
   ]
  },
  {
   "cell_type": "code",
   "execution_count": 17,
   "id": "ee8f38c7-9e04-4d8d-b6dd-3683c2405ca8",
   "metadata": {},
   "outputs": [
    {
     "name": "stdout",
     "output_type": "stream",
     "text": [
      "ds                             0\n",
      "[Australian dollar ]           0\n",
      "[Bulgarian lev ]               0\n",
      "[Brazilian real ]              0\n",
      "[Canadian dollar ]             0\n",
      "[Swiss franc ]                 0\n",
      "[Chinese yuan renminbi ]       0\n",
      "[Cypriot pound ]            4113\n",
      "[Czech koruna ]                0\n",
      "[Danish krone ]                0\n",
      "[Estonian kroon ]              0\n",
      "[UK pound sterling ]           0\n",
      "[Greek drachma ]            4113\n",
      "[Hong Kong dollar ]            0\n",
      "[Croatian kuna ]               0\n",
      "[Hungarian forint ]            0\n",
      "[Indonesian rupiah ]           0\n",
      "[Israeli shekel ]              0\n",
      "[Indian rupee ]                0\n",
      "[Iceland krona ]               0\n",
      "[Japanese yen ]                0\n",
      "[Korean won ]                  0\n",
      "[Lithuanian litas ]            0\n",
      "[Latvian lats ]                0\n",
      "[Maltese lira ]             4113\n",
      "[Mexican peso ]                0\n",
      "[Malaysian ringgit ]           0\n",
      "[Norwegian krone ]             0\n",
      "[New Zealand dollar ]          0\n",
      "[Philippine peso ]             0\n",
      "[Polish zloty ]                0\n",
      "[Romanian leu ]                0\n",
      "[Russian rouble ]              0\n",
      "[Swedish krona ]               0\n",
      "[Singapore dollar ]            0\n",
      "[Slovenian tolar ]          4113\n",
      "[Slovak koruna ]               0\n",
      "[Thai baht ]                   0\n",
      "[Turkish lira ]                0\n",
      "[US dollar ]                   0\n",
      "[South African rand ]          0\n",
      "dtype: int64\n"
     ]
    }
   ],
   "source": [
    "print(df.isnull().sum())"
   ]
  },
  {
   "cell_type": "code",
   "execution_count": 18,
   "id": "d3d6b6e3-e01c-432e-983d-36717d8b343c",
   "metadata": {},
   "outputs": [],
   "source": [
    "#columns_to_delete=[r'[Greek drachma ]',r'[Maltese lira ]',r'[Slovenian tolar ]']"
   ]
  },
  {
   "cell_type": "code",
   "execution_count": 19,
   "id": "3f593588-08eb-4679-8d5d-c6da197dccea",
   "metadata": {},
   "outputs": [],
   "source": [
    "df=df.drop(columns=[r'[Slovenian tolar ]','[Cypriot pound ]','[Maltese lira ]','[Greek drachma ]'])"
   ]
  },
  {
   "cell_type": "code",
   "execution_count": 20,
   "id": "db7aa038-4649-4355-9728-8a59c4393ef6",
   "metadata": {},
   "outputs": [
    {
     "name": "stdout",
     "output_type": "stream",
     "text": [
      "ds                          0\n",
      "[Australian dollar ]        0\n",
      "[Bulgarian lev ]            0\n",
      "[Brazilian real ]           0\n",
      "[Canadian dollar ]          0\n",
      "[Swiss franc ]              0\n",
      "[Chinese yuan renminbi ]    0\n",
      "[Czech koruna ]             0\n",
      "[Danish krone ]             0\n",
      "[Estonian kroon ]           0\n",
      "[UK pound sterling ]        0\n",
      "[Hong Kong dollar ]         0\n",
      "[Croatian kuna ]            0\n",
      "[Hungarian forint ]         0\n",
      "[Indonesian rupiah ]        0\n",
      "[Israeli shekel ]           0\n",
      "[Indian rupee ]             0\n",
      "[Iceland krona ]            0\n",
      "[Japanese yen ]             0\n",
      "[Korean won ]               0\n",
      "[Lithuanian litas ]         0\n",
      "[Latvian lats ]             0\n",
      "[Mexican peso ]             0\n",
      "[Malaysian ringgit ]        0\n",
      "[Norwegian krone ]          0\n",
      "[New Zealand dollar ]       0\n",
      "[Philippine peso ]          0\n",
      "[Polish zloty ]             0\n",
      "[Romanian leu ]             0\n",
      "[Russian rouble ]           0\n",
      "[Swedish krona ]            0\n",
      "[Singapore dollar ]         0\n",
      "[Slovak koruna ]            0\n",
      "[Thai baht ]                0\n",
      "[Turkish lira ]             0\n",
      "[US dollar ]                0\n",
      "[South African rand ]       0\n",
      "dtype: int64\n"
     ]
    }
   ],
   "source": [
    "print(df.isnull().sum())"
   ]
  },
  {
   "cell_type": "code",
   "execution_count": 21,
   "id": "1b304cd1-f61e-4910-a62e-1f62c88ad6fd",
   "metadata": {},
   "outputs": [],
   "source": [
    "df=df.rename(columns={r\"[Australian dollar ]\":\"y\"})"
   ]
  },
  {
   "cell_type": "code",
   "execution_count": 22,
   "id": "ccb7cbaf-9e86-4e23-bb3f-c2ecd0e9e0e2",
   "metadata": {},
   "outputs": [],
   "source": [
    "df_use=df[['ds','y']]"
   ]
  },
  {
   "cell_type": "code",
   "execution_count": 23,
   "id": "454196d9-d7c0-44fb-a8ab-c7db679b0bb1",
   "metadata": {},
   "outputs": [
    {
     "data": {
      "text/html": [
       "<div>\n",
       "<style scoped>\n",
       "    .dataframe tbody tr th:only-of-type {\n",
       "        vertical-align: middle;\n",
       "    }\n",
       "\n",
       "    .dataframe tbody tr th {\n",
       "        vertical-align: top;\n",
       "    }\n",
       "\n",
       "    .dataframe thead th {\n",
       "        text-align: right;\n",
       "    }\n",
       "</style>\n",
       "<table border=\"1\" class=\"dataframe\">\n",
       "  <thead>\n",
       "    <tr style=\"text-align: right;\">\n",
       "      <th></th>\n",
       "      <th>ds</th>\n",
       "      <th>y</th>\n",
       "    </tr>\n",
       "  </thead>\n",
       "  <tbody>\n",
       "    <tr>\n",
       "      <th>0</th>\n",
       "      <td>2024-04-11</td>\n",
       "      <td>1.6448</td>\n",
       "    </tr>\n",
       "    <tr>\n",
       "      <th>1</th>\n",
       "      <td>2024-04-10</td>\n",
       "      <td>1.6399</td>\n",
       "    </tr>\n",
       "    <tr>\n",
       "      <th>2</th>\n",
       "      <td>2024-04-09</td>\n",
       "      <td>1.6407</td>\n",
       "    </tr>\n",
       "    <tr>\n",
       "      <th>3</th>\n",
       "      <td>2024-04-08</td>\n",
       "      <td>1.6433</td>\n",
       "    </tr>\n",
       "    <tr>\n",
       "      <th>4</th>\n",
       "      <td>2024-04-05</td>\n",
       "      <td>1.6461</td>\n",
       "    </tr>\n",
       "    <tr>\n",
       "      <th>...</th>\n",
       "      <td>...</td>\n",
       "      <td>...</td>\n",
       "    </tr>\n",
       "    <tr>\n",
       "      <th>4108</th>\n",
       "      <td>2008-04-22</td>\n",
       "      <td>1.6851</td>\n",
       "    </tr>\n",
       "    <tr>\n",
       "      <th>4109</th>\n",
       "      <td>2008-04-21</td>\n",
       "      <td>1.6873</td>\n",
       "    </tr>\n",
       "    <tr>\n",
       "      <th>4110</th>\n",
       "      <td>2008-04-18</td>\n",
       "      <td>1.6882</td>\n",
       "    </tr>\n",
       "    <tr>\n",
       "      <th>4111</th>\n",
       "      <td>2008-04-17</td>\n",
       "      <td>1.6935</td>\n",
       "    </tr>\n",
       "    <tr>\n",
       "      <th>4112</th>\n",
       "      <td>2008-04-16</td>\n",
       "      <td>1.7069</td>\n",
       "    </tr>\n",
       "  </tbody>\n",
       "</table>\n",
       "<p>4113 rows × 2 columns</p>\n",
       "</div>"
      ],
      "text/plain": [
       "             ds       y\n",
       "0    2024-04-11  1.6448\n",
       "1    2024-04-10  1.6399\n",
       "2    2024-04-09  1.6407\n",
       "3    2024-04-08  1.6433\n",
       "4    2024-04-05  1.6461\n",
       "...         ...     ...\n",
       "4108 2008-04-22  1.6851\n",
       "4109 2008-04-21  1.6873\n",
       "4110 2008-04-18  1.6882\n",
       "4111 2008-04-17  1.6935\n",
       "4112 2008-04-16  1.7069\n",
       "\n",
       "[4113 rows x 2 columns]"
      ]
     },
     "execution_count": 23,
     "metadata": {},
     "output_type": "execute_result"
    }
   ],
   "source": [
    "df_use"
   ]
  },
  {
   "cell_type": "code",
   "execution_count": 24,
   "id": "4bb904c1-3c63-4226-ab30-65406de80f3b",
   "metadata": {},
   "outputs": [],
   "source": [
    "import pycaret"
   ]
  },
  {
   "cell_type": "code",
   "execution_count": 25,
   "id": "86df33a8-4495-487f-bddd-2cb0cfd2d587",
   "metadata": {},
   "outputs": [
    {
     "data": {
      "text/plain": [
       "'3.3.2'"
      ]
     },
     "execution_count": 25,
     "metadata": {},
     "output_type": "execute_result"
    }
   ],
   "source": [
    "pycaret.__version__"
   ]
  },
  {
   "cell_type": "code",
   "execution_count": 26,
   "id": "3a395b0c-600f-4a28-8681-c7283d8e7e3b",
   "metadata": {},
   "outputs": [
    {
     "data": {
      "text/plain": [
       "<pandas.plotting._core.PlotAccessor object at 0x000001F977B42560>"
      ]
     },
     "execution_count": 26,
     "metadata": {},
     "output_type": "execute_result"
    }
   ],
   "source": [
    "df_use.plot"
   ]
  },
  {
   "cell_type": "code",
   "execution_count": 27,
   "id": "b39f4eee-3856-430a-aea0-7de78e55a0c6",
   "metadata": {},
   "outputs": [],
   "source": [
    "df_use.set_index('ds', inplace=True)\n",
    "\n",
    "\n"
   ]
  },
  {
   "cell_type": "code",
   "execution_count": 28,
   "id": "bb54fc28-dae8-4787-9821-a1c792f0a4cf",
   "metadata": {},
   "outputs": [
    {
     "name": "stdout",
     "output_type": "stream",
     "text": [
      "                 y\n",
      "ds                \n",
      "2024-04-11  1.6448\n",
      "2024-04-10  1.6399\n",
      "2024-04-09  1.6407\n",
      "2024-04-08  1.6433\n",
      "2024-04-05  1.6461\n",
      "...            ...\n",
      "2008-04-22  1.6851\n",
      "2008-04-21  1.6873\n",
      "2008-04-18  1.6882\n",
      "2008-04-17  1.6935\n",
      "2008-04-16  1.7069\n",
      "\n",
      "[4113 rows x 1 columns]\n"
     ]
    }
   ],
   "source": [
    "print(df_use)"
   ]
  },
  {
   "cell_type": "code",
   "execution_count": 29,
   "id": "c24e3624-b60b-45ac-aa3e-600021ff3dde",
   "metadata": {},
   "outputs": [
    {
     "data": {
      "text/plain": [
       "<Axes: xlabel='ds'>"
      ]
     },
     "execution_count": 29,
     "metadata": {},
     "output_type": "execute_result"
    },
    {
     "data": {
      "image/png": "[encoded data removed]",
      "text/plain": [
       "<Figure size 1200x600 with 1 Axes>"
      ]
     },
     "metadata": {},
     "output_type": "display_data"
    }
   ],
   "source": [
    "df_use[\"y\"].plot(figsize=(12, 6))"
   ]
  },
  {
   "cell_type": "code",
   "execution_count": 30,
   "id": "297d1b3b-8aa7-46ad-89a6-4ab9c85b2763",
   "metadata": {},
   "outputs": [],
   "source": [
    "from pycaret.time_series import *"
   ]
  },
  {
   "cell_type": "code",
   "execution_count": 31,
   "id": "a36c06bc-77cd-403e-9963-83217b692f8f",
   "metadata": {},
   "outputs": [],
   "source": [
    "from statsmodels.tsa.seasonal import seasonal_decompose"
   ]
  },
  {
   "cell_type": "code",
   "execution_count": 32,
   "id": "337eff43-7c64-4f8a-b226-99d23ec27876",
   "metadata": {},
   "outputs": [],
   "source": [
    "#initialiser l'entrainement et creer le tranformation pipeline, SETUP\n",
    "resultat=seasonal_decompose(df_use['y'],model='additive', period=12)"
   ]
  },
  {
   "cell_type": "code",
   "execution_count": 33,
   "id": "439cffe3-6b49-4910-be74-e1a738ed2c4d",
   "metadata": {},
   "outputs": [],
   "source": [
    "import matplotlib as plt"
   ]
  },
  {
   "cell_type": "code",
   "execution_count": 34,
   "id": "30205994-a501-4d06-81c8-1f77f3409008",
   "metadata": {},
   "outputs": [
    {
     "data": {
      "image/png": "[encoded data removed]",
      "text/plain": [
       "<Figure size 800x550 with 4 Axes>"
      ]
     },
     "execution_count": 34,
     "metadata": {},
     "output_type": "execute_result"
    },
    {
     "data": {
      "image/png": "[encoded data removed]",
      "text/plain": [
       "<Figure size 800x550 with 4 Axes>"
      ]
     },
     "metadata": {},
     "output_type": "display_data"
    }
   ],
   "source": [
    "resultat.plot()"
   ]
  },
  {
   "cell_type": "code",
   "execution_count": 35,
   "id": "7da5aea2-5588-4b6f-a1cd-67c87b19267c",
   "metadata": {},
   "outputs": [],
   "source": [
    "from sklearn.preprocessing import RobustScaler"
   ]
  },
  {
   "cell_type": "code",
   "execution_count": 36,
   "id": "95d129bf-b491-491b-9ae5-d9ac442d28a5",
   "metadata": {},
   "outputs": [],
   "source": [
    "scaler=RobustScaler()"
   ]
  },
  {
   "cell_type": "code",
   "execution_count": 37,
   "id": "623737bc-b12f-4aff-8da9-647da42df164",
   "metadata": {},
   "outputs": [],
   "source": [
    "#"
   ]
  },
  {
   "cell_type": "code",
   "execution_count": 38,
   "id": "9ae4b90c-4352-4028-bbbb-990879e0dc48",
   "metadata": {},
   "outputs": [
    {
     "data": {
      "text/html": [
       "<div>\n",
       "<style scoped>\n",
       "    .dataframe tbody tr th:only-of-type {\n",
       "        vertical-align: middle;\n",
       "    }\n",
       "\n",
       "    .dataframe tbody tr th {\n",
       "        vertical-align: top;\n",
       "    }\n",
       "\n",
       "    .dataframe thead th {\n",
       "        text-align: right;\n",
       "    }\n",
       "</style>\n",
       "<table border=\"1\" class=\"dataframe\">\n",
       "  <thead>\n",
       "    <tr style=\"text-align: right;\">\n",
       "      <th></th>\n",
       "      <th>y</th>\n",
       "    </tr>\n",
       "    <tr>\n",
       "      <th>ds</th>\n",
       "      <th></th>\n",
       "    </tr>\n",
       "  </thead>\n",
       "  <tbody>\n",
       "    <tr>\n",
       "      <th>2024-04-11</th>\n",
       "      <td>1.6448</td>\n",
       "    </tr>\n",
       "    <tr>\n",
       "      <th>2024-04-10</th>\n",
       "      <td>1.6399</td>\n",
       "    </tr>\n",
       "    <tr>\n",
       "      <th>2024-04-09</th>\n",
       "      <td>1.6407</td>\n",
       "    </tr>\n",
       "    <tr>\n",
       "      <th>2024-04-08</th>\n",
       "      <td>1.6433</td>\n",
       "    </tr>\n",
       "    <tr>\n",
       "      <th>2024-04-05</th>\n",
       "      <td>1.6461</td>\n",
       "    </tr>\n",
       "    <tr>\n",
       "      <th>...</th>\n",
       "      <td>...</td>\n",
       "    </tr>\n",
       "    <tr>\n",
       "      <th>2008-04-22</th>\n",
       "      <td>1.6851</td>\n",
       "    </tr>\n",
       "    <tr>\n",
       "      <th>2008-04-21</th>\n",
       "      <td>1.6873</td>\n",
       "    </tr>\n",
       "    <tr>\n",
       "      <th>2008-04-18</th>\n",
       "      <td>1.6882</td>\n",
       "    </tr>\n",
       "    <tr>\n",
       "      <th>2008-04-17</th>\n",
       "      <td>1.6935</td>\n",
       "    </tr>\n",
       "    <tr>\n",
       "      <th>2008-04-16</th>\n",
       "      <td>1.7069</td>\n",
       "    </tr>\n",
       "  </tbody>\n",
       "</table>\n",
       "<p>4113 rows × 1 columns</p>\n",
       "</div>"
      ],
      "text/plain": [
       "                 y\n",
       "ds                \n",
       "2024-04-11  1.6448\n",
       "2024-04-10  1.6399\n",
       "2024-04-09  1.6407\n",
       "2024-04-08  1.6433\n",
       "2024-04-05  1.6461\n",
       "...            ...\n",
       "2008-04-22  1.6851\n",
       "2008-04-21  1.6873\n",
       "2008-04-18  1.6882\n",
       "2008-04-17  1.6935\n",
       "2008-04-16  1.7069\n",
       "\n",
       "[4113 rows x 1 columns]"
      ]
     },
     "execution_count": 38,
     "metadata": {},
     "output_type": "execute_result"
    }
   ],
   "source": [
    "df_use"
   ]
  },
  {
   "cell_type": "code",
   "execution_count": 39,
   "id": "4352bf65-fede-4d09-956a-46f26c2fedf0",
   "metadata": {},
   "outputs": [],
   "source": [
    "import numpy as np"
   ]
  },
  {
   "cell_type": "code",
   "execution_count": 40,
   "id": "bad87942-f6d6-437c-b43b-5d1d45321ea9",
   "metadata": {},
   "outputs": [],
   "source": [
    "def detect_valeur_ab(v):\n",
    "    Q1=np.quantile(v,0.25)\n",
    "    Q3=np.quantile(v,0.75)\n",
    "    EIQ=Q3-Q1\n",
    "    LI=Q1-(EIQ*1.5)\n",
    "    LS=Q3+(EIQ*1.5)\n",
    "    i=list(v.index[(v<LI)|(v>LS)])\n",
    "    val=list(v[i])\n",
    "    return [i,val]"
   ]
  },
  {
   "cell_type": "code",
   "execution_count": 41,
   "id": "fd338359-afd9-4b5e-a2b4-e9f227664a74",
   "metadata": {},
   "outputs": [],
   "source": [
    "va=detect_valeur_ab(df_use['y'])"
   ]
  },
  {
   "cell_type": "code",
   "execution_count": 42,
   "id": "9d3b5609-41b2-4417-94f5-d3c53ce1ed23",
   "metadata": {},
   "outputs": [
    {
     "name": "stdout",
     "output_type": "stream",
     "text": [
      "[[Timestamp('2009-04-06 00:00:00'), Timestamp('2009-04-01 00:00:00'), Timestamp('2009-03-31 00:00:00'), Timestamp('2009-03-30 00:00:00'), Timestamp('2009-03-27 00:00:00'), Timestamp('2009-03-26 00:00:00'), Timestamp('2009-03-25 00:00:00'), Timestamp('2009-03-24 00:00:00'), Timestamp('2009-03-23 00:00:00'), Timestamp('2009-03-20 00:00:00'), Timestamp('2009-03-19 00:00:00'), Timestamp('2009-03-18 00:00:00'), Timestamp('2009-03-17 00:00:00'), Timestamp('2009-03-16 00:00:00'), Timestamp('2009-03-13 00:00:00'), Timestamp('2009-03-12 00:00:00'), Timestamp('2009-03-11 00:00:00'), Timestamp('2009-03-10 00:00:00'), Timestamp('2009-03-09 00:00:00'), Timestamp('2009-03-06 00:00:00'), Timestamp('2009-03-05 00:00:00'), Timestamp('2009-03-04 00:00:00'), Timestamp('2009-03-03 00:00:00'), Timestamp('2009-03-02 00:00:00'), Timestamp('2009-02-27 00:00:00'), Timestamp('2009-02-26 00:00:00'), Timestamp('2009-02-25 00:00:00'), Timestamp('2009-02-24 00:00:00'), Timestamp('2009-02-23 00:00:00'), Timestamp('2009-02-20 00:00:00'), Timestamp('2009-02-19 00:00:00'), Timestamp('2009-02-18 00:00:00'), Timestamp('2009-02-17 00:00:00'), Timestamp('2009-02-16 00:00:00'), Timestamp('2009-02-13 00:00:00'), Timestamp('2009-02-12 00:00:00'), Timestamp('2009-02-11 00:00:00'), Timestamp('2009-02-10 00:00:00'), Timestamp('2009-02-09 00:00:00'), Timestamp('2009-02-06 00:00:00'), Timestamp('2009-02-05 00:00:00'), Timestamp('2009-02-04 00:00:00'), Timestamp('2009-02-03 00:00:00'), Timestamp('2009-02-02 00:00:00'), Timestamp('2009-01-30 00:00:00'), Timestamp('2009-01-29 00:00:00'), Timestamp('2009-01-28 00:00:00'), Timestamp('2009-01-27 00:00:00'), Timestamp('2009-01-26 00:00:00'), Timestamp('2009-01-23 00:00:00'), Timestamp('2009-01-22 00:00:00'), Timestamp('2009-01-21 00:00:00'), Timestamp('2009-01-20 00:00:00'), Timestamp('2009-01-19 00:00:00'), Timestamp('2009-01-16 00:00:00'), Timestamp('2009-01-15 00:00:00'), Timestamp('2009-01-14 00:00:00'), Timestamp('2009-01-13 00:00:00'), Timestamp('2009-01-12 00:00:00'), Timestamp('2009-01-09 00:00:00'), Timestamp('2009-01-08 00:00:00'), Timestamp('2009-01-05 00:00:00'), Timestamp('2009-01-02 00:00:00'), Timestamp('2008-12-31 00:00:00'), Timestamp('2008-12-30 00:00:00'), Timestamp('2008-12-29 00:00:00'), Timestamp('2008-12-24 00:00:00'), Timestamp('2008-12-23 00:00:00'), Timestamp('2008-12-22 00:00:00'), Timestamp('2008-12-19 00:00:00'), Timestamp('2008-12-18 00:00:00'), Timestamp('2008-12-17 00:00:00'), Timestamp('2008-12-16 00:00:00'), Timestamp('2008-12-15 00:00:00'), Timestamp('2008-12-12 00:00:00'), Timestamp('2008-12-11 00:00:00'), Timestamp('2008-12-10 00:00:00'), Timestamp('2008-12-09 00:00:00'), Timestamp('2008-12-08 00:00:00'), Timestamp('2008-12-05 00:00:00'), Timestamp('2008-12-04 00:00:00'), Timestamp('2008-12-03 00:00:00'), Timestamp('2008-12-02 00:00:00'), Timestamp('2008-12-01 00:00:00'), Timestamp('2008-11-28 00:00:00'), Timestamp('2008-11-27 00:00:00'), Timestamp('2008-11-26 00:00:00'), Timestamp('2008-11-25 00:00:00'), Timestamp('2008-11-24 00:00:00'), Timestamp('2008-11-21 00:00:00'), Timestamp('2008-11-20 00:00:00'), Timestamp('2008-11-19 00:00:00'), Timestamp('2008-11-18 00:00:00'), Timestamp('2008-11-17 00:00:00'), Timestamp('2008-11-14 00:00:00'), Timestamp('2008-11-13 00:00:00'), Timestamp('2008-11-12 00:00:00'), Timestamp('2008-11-11 00:00:00'), Timestamp('2008-11-07 00:00:00'), Timestamp('2008-11-03 00:00:00'), Timestamp('2008-10-31 00:00:00'), Timestamp('2008-10-30 00:00:00'), Timestamp('2008-10-29 00:00:00'), Timestamp('2008-10-28 00:00:00'), Timestamp('2008-10-27 00:00:00'), Timestamp('2008-10-24 00:00:00'), Timestamp('2008-10-23 00:00:00'), Timestamp('2008-10-22 00:00:00'), Timestamp('2008-10-21 00:00:00'), Timestamp('2008-10-20 00:00:00'), Timestamp('2008-10-17 00:00:00'), Timestamp('2008-10-16 00:00:00'), Timestamp('2008-10-15 00:00:00'), Timestamp('2008-10-14 00:00:00'), Timestamp('2008-10-13 00:00:00'), Timestamp('2008-10-10 00:00:00'), Timestamp('2008-10-09 00:00:00'), Timestamp('2008-10-08 00:00:00')], [1.8954, 1.9081, 1.9216, 1.9386, 1.923, 1.9349, 1.931, 1.9341, 1.9475, 1.9685, 1.9771, 1.984, 1.9624, 1.9679, 1.9587, 1.9785, 1.9657, 1.9842, 1.9883, 1.9783, 1.9573, 1.957, 1.9619, 1.9869, 1.9891, 1.959, 1.9685, 1.9797, 1.9796, 1.9746, 1.9597, 1.9726, 1.975, 1.9622, 1.9404, 1.9844, 1.9745, 1.94, 1.9257, 1.9407, 1.9772, 2.0006, 2.0113, 2.0318, 2.0115, 1.9942, 1.9815, 1.9884, 1.9773, 1.9836, 1.9799, 1.9937, 1.9662, 1.9628, 1.9611, 1.9818, 1.9769, 1.9874, 1.9478, 1.9371, 1.9357, 1.9189, 1.9884, 2.0274, 2.0435, 2.0595, 2.054, 2.0442, 2.0393, 2.047, 2.0735, 2.0469, 2.0374, 2.0246, 2.0291, 1.9889, 1.9665, 1.9596, 1.9377, 1.9895, 1.9634, 1.9625, 1.9602, 1.9649, 1.9533, 1.9689, 1.9992, 2.0086, 1.9936, 2.0278, 1.9927, 1.9547, 1.9511, 1.943, 1.9301, 1.9596, 1.8992, 1.9028, 1.9096, 1.9102, 1.9247, 1.9204, 1.9672, 2.0037, 2.0396, 2.0506, 1.9372, 1.9073, 1.928, 1.936, 1.9617, 2.0018, 1.9571, 1.9066, 2.032, 2.0538, 1.9503, 2.0022]]\n"
     ]
    }
   ],
   "source": [
    "print(va)"
   ]
  },
  {
   "cell_type": "code",
   "execution_count": 43,
   "id": "b5967593-5f5c-44cc-9264-efe11499417a",
   "metadata": {},
   "outputs": [],
   "source": [
    "df_use=df_use.reset_index()"
   ]
  },
  {
   "cell_type": "code",
   "execution_count": 44,
   "id": "d0e47da4-824e-40f3-a76b-829dcd53efb3",
   "metadata": {},
   "outputs": [],
   "source": [
    "train_size=int(len(df_use)*0.8)"
   ]
  },
  {
   "cell_type": "code",
   "execution_count": 45,
   "id": "19ef6f9c-f546-4606-bffc-034b9ea5f692",
   "metadata": {},
   "outputs": [],
   "source": [
    "from sklearn.metrics import mean_squared_error, mean_absolute_error"
   ]
  },
  {
   "cell_type": "code",
   "execution_count": 46,
   "id": "22132cdd-16d1-4b73-b602-2f5f54b15018",
   "metadata": {},
   "outputs": [],
   "source": [
    "from math import sqrt"
   ]
  },
  {
   "cell_type": "code",
   "execution_count": 47,
   "id": "4b66b0b0-ae6d-4ffc-847a-d6929c6397fb",
   "metadata": {},
   "outputs": [],
   "source": [
    "X, Y=df_use[:train_size], df_use[train_size:]"
   ]
  },
  {
   "cell_type": "code",
   "execution_count": 48,
   "id": "5f652eaf-0f05-4926-806b-dfd958a37099",
   "metadata": {},
   "outputs": [],
   "source": [
    "from prophet import Prophet"
   ]
  },
  {
   "cell_type": "code",
   "execution_count": 49,
   "id": "53037c0c-970d-4632-9a1b-4d72ea316ddb",
   "metadata": {},
   "outputs": [],
   "source": [
    "def calcul_metrics(test,prediction):\n",
    "    mae= mean_absolute_error(test,prediction)\n",
    "    mse=mean_squared_error(test,prediction)\n",
    "    rmse=sqrt(mse)\n",
    "    return mae, mse, rmse"
   ]
  },
  {
   "cell_type": "code",
   "execution_count": 51,
   "id": "e1a971d1-0bbe-43a2-84d3-6d51b5f30b3c",
   "metadata": {},
   "outputs": [],
   "source": [
    "def evaluate_prophet(train, test):\n",
    "    model_prophet= Prophet()\n",
    "    model_prophet.fit(train)\n",
    "    futur= model_prophet.make_future_dataframe(periods=len(test))\n",
    "    forecast=model_prophet.predict(futur)\n",
    "    forecast_test=forecast[-len(test):]\n",
    "    test_metrics=test['y'].values\n",
    "    test_pred=forecast_test['yhat'].values\n",
    "    return calcul_metrics(test_metrics,test_pred)"
   ]
  },
  {
   "cell_type": "code",
   "execution_count": 52,
   "id": "d7aff7ac-9f0b-4f86-90e7-1a666f0364e6",
   "metadata": {},
   "outputs": [],
   "source": [
    "def evaluate_pycaret(df):\n",
    "    exp = TSForecastingExperiment()\n",
    "    exp.setup(df, target='y', fold=3)\n",
    "    best_model=exp.compare_models()\n",
    "    prediction=exp.predict_model(best_model)\n",
    "    test_metrics=df['y'].iloc[-len(prediction):].values\n",
    "    test_pred=prediction['y'].values\n",
    "    return calcul_metrics(test_metrics,test_pred)"
   ]
  },
  {
   "cell_type": "code",
   "execution_count": 53,
   "id": "67d87918-5d24-4e4d-bc98-f0fb691a4262",
   "metadata": {},
   "outputs": [],
   "source": [
    "def evaluate_regression(train,test):\n",
    "    from sklearn.pipeline import Pipeline\n",
    "    from sklearn.preprocessing import StandardScaler\n",
    "    from sklearn.linear_model import LinearRegression\n",
    "    pipeline=Pipeline(steps=[('scaler', StandardScaler()),('model', LinearRegression())])\n",
    "    pipeline.fit(train,test)\n",
    "    forecast=pipeline.predict(test)\n",
    "    forecast_test=forecast[-len(test):]\n",
    "    test_metrics=test['y'].values\n",
    "    test_pred=forecast_test['y'].values\n",
    "    return calcul_metrics(test_metrics,test_pred)"
   ]
  },
  {
   "cell_type": "code",
   "execution_count": 54,
   "id": "17784a52-c438-4ef0-b45c-b4c88ec592c4",
   "metadata": {},
   "outputs": [],
   "source": [
    "from neuralprophet import NeuralProphet"
   ]
  },
  {
   "cell_type": "code",
   "execution_count": 55,
   "id": "1d086f6a-85a7-444c-b0c8-152b7cf0115c",
   "metadata": {},
   "outputs": [],
   "source": [
    "def evaluate_neuralprophet(df):\n",
    "    model_np=NeuralProphet()\n",
    "    model_np.fit(df)\n",
    "    forecast=model_np.predict(df)\n",
    "    test_metrics=df['y'].iloc[-len(forecast):].values\n",
    "    test_pred=forecast['y'].values\n",
    "    return calcul_metrics(test_metrics,test_pred)"
   ]
  },
  {
   "cell_type": "code",
   "execution_count": 56,
   "id": "ce714175-1409-4bd2-9b79-7e573ffde82e",
   "metadata": {},
   "outputs": [],
   "source": [
    "model_prophet= Prophet()"
   ]
  },
  {
   "cell_type": "code",
   "execution_count": 57,
   "id": "eb8a8734-1d65-4287-a852-8c555b86cf43",
   "metadata": {},
   "outputs": [],
   "source": [
    "#metrics_prophet=evaluate_neuralprophet(df_use)"
   ]
  },
  {
   "cell_type": "code",
   "execution_count": 58,
   "id": "f2250c19-3266-4544-b569-9338fdc4ad5f",
   "metadata": {},
   "outputs": [],
   "source": [
    "#exp = TSForecastingExperiment()"
   ]
  },
  {
   "cell_type": "code",
   "execution_count": 59,
   "id": "d9805e1e-9433-4b15-a9ff-4966ab0abd66",
   "metadata": {},
   "outputs": [],
   "source": [
    "#results=pd.DataFrame({'Model':['Prophet'],'RMSE':[metrics_prophet[2]],'MAE':[metrics_prophet[0]], 'MSE':[metrics_prophet[1]]})"
   ]
  },
  {
   "cell_type": "code",
   "execution_count": 60,
   "id": "59cc0e5f-b267-4388-bdbd-2d71122ab0fa",
   "metadata": {},
   "outputs": [],
   "source": [
    "#print(results)"
   ]
  },
  {
   "cell_type": "code",
   "execution_count": 61,
   "id": "bdb1764a-a70c-4e95-8101-fa2272ecd41c",
   "metadata": {},
   "outputs": [],
   "source": [
    "#exp.setup(X, target='y', fold=3)"
   ]
  },
  {
   "cell_type": "code",
   "execution_count": 62,
   "id": "4c24f9ef-7c6c-4303-9a54-8f90efc77d24",
   "metadata": {},
   "outputs": [],
   "source": [
    "#print(type(exp))"
   ]
  },
  {
   "cell_type": "code",
   "execution_count": 63,
   "id": "f7edcbac-e108-44ed-8971-1d57696ee3d9",
   "metadata": {},
   "outputs": [],
   "source": [
    "#exp.models()"
   ]
  },
  {
   "cell_type": "code",
   "execution_count": 64,
   "id": "c134f5e0-79dc-48b4-8358-65e4ae54d4a4",
   "metadata": {},
   "outputs": [],
   "source": [
    "#exp.compare_models()"
   ]
  },
  {
   "cell_type": "code",
   "execution_count": 65,
   "id": "30e75ac3-efb9-47f4-8258-3dad9882dc27",
   "metadata": {},
   "outputs": [],
   "source": [
    "#from neuralprophet import NeuralProphet"
   ]
  },
  {
   "cell_type": "code",
   "execution_count": 66,
   "id": "c0aa2edb-fa6e-47ad-b56f-318733b90137",
   "metadata": {},
   "outputs": [],
   "source": [
    "#md=NeuralProphet()"
   ]
  },
  {
   "cell_type": "code",
   "execution_count": 67,
   "id": "4a27b510-2b7e-4340-acea-6363bbcea808",
   "metadata": {},
   "outputs": [],
   "source": [
    "#md.set_plotting_backend(\"plotly-static\")"
   ]
  },
  {
   "cell_type": "code",
   "execution_count": 68,
   "id": "6343fe41-3ab9-4c4d-9c6d-9f16b25829e4",
   "metadata": {},
   "outputs": [
    {
     "name": "stderr",
     "output_type": "stream",
     "text": [
      "12:09:16 - cmdstanpy - INFO - Chain [1] start processing\n",
      "12:09:54 - cmdstanpy - INFO - Chain [1] done processing\n"
     ]
    },
    {
     "data": {
      "text/plain": [
       "<prophet.forecaster.Prophet at 0x1f9122fbfd0>"
      ]
     },
     "execution_count": 68,
     "metadata": {},
     "output_type": "execute_result"
    }
   ],
   "source": [
    "model_prophet.fit(X)"
   ]
  },
  {
   "cell_type": "code",
   "execution_count": 69,
   "id": "f47483fe-498b-407e-b090-7e5e9cfb809a",
   "metadata": {},
   "outputs": [],
   "source": [
    "futur= model_prophet.make_future_dataframe(periods=len(Y))"
   ]
  },
  {
   "cell_type": "code",
   "execution_count": 70,
   "id": "ccd96d3f-0bbe-4cff-8875-dfb8e709fa56",
   "metadata": {},
   "outputs": [],
   "source": [
    "forecast=model_prophet.predict(futur)"
   ]
  },
  {
   "cell_type": "code",
   "execution_count": 73,
   "id": "eca826e9-e168-4431-a989-49dc9a9fee38",
   "metadata": {},
   "outputs": [],
   "source": [
    "import pickle\n"
   ]
  },
  {
   "cell_type": "code",
   "execution_count": 75,
   "id": "e9393009-ed24-4152-95c5-b6006609a402",
   "metadata": {},
   "outputs": [],
   "source": [
    "pickle.dump(model_prophet,open('prophet.pkl','wb'))"
   ]
  },
  {
   "cell_type": "code",
   "execution_count": null,
   "id": "9bf92712-7fbb-42aa-a03c-63cd88e9e147",
   "metadata": {},
   "outputs": [],
   "source": []
  }
 ],
 "metadata": {
  "kernelspec": {
   "display_name": "Python 3 (ipykernel)",
   "language": "python",
   "name": "python3"
  },
  "language_info": {
   "codemirror_mode": {
    "name": "ipython",
    "version": 3
   },
   "file_extension": ".py",
   "mimetype": "text/x-python",
   "name": "python",
   "nbconvert_exporter": "python",
   "pygments_lexer": "ipython3",
   "version": "3.10.9"
  }
 },
 "nbformat": 4,
 "nbformat_minor": 5
}
